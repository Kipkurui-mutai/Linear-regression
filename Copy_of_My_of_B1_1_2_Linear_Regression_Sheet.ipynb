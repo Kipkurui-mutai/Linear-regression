{
  "nbformat": 4,
  "nbformat_minor": 0,
  "metadata": {
    "colab": {
      "name": "Copy of My of B1.1.2 -Linear_Regression_Sheet.ipynb",
      "provenance": [],
      "collapsed_sections": []
    },
    "kernelspec": {
      "display_name": "Python 3",
      "language": "python",
      "name": "python3"
    },
    "language_info": {
      "codemirror_mode": {
        "name": "ipython",
        "version": 3
      },
      "file_extension": ".py",
      "mimetype": "text/x-python",
      "name": "python",
      "nbconvert_exporter": "python",
      "pygments_lexer": "ipython3",
      "version": "3.7.3"
    }
  },
  "cells": [
    {
      "cell_type": "markdown",
      "metadata": {
        "id": "OOGE584Y-6j7"
      },
      "source": [
        "<h1 align=center><font size=5>Linear Regression</font></h1>"
      ]
    },
    {
      "cell_type": "markdown",
      "metadata": {
        "id": "ARyHHoq--6j9"
      },
      "source": [
        "## Table of contents\n",
        "\n",
        "\n",
        "- [Linear regression](#LR)\n",
        "    - [Data example](#LR_data)\n",
        "    - [Linear regression with analytical solution](#LR_analytical)\n",
        "    - [Linear regression with gradient descent](#LR_gradient_desc)\n",
        "    - [Linear regression with scikit-learn](#LR_scikitlearn)\n",
        "- [Polynomial regression](#poly_reg)\n",
        "    - [Data example](#poly_data)\n",
        "    - [Regression with polynomial features transformation](#reg_poly)\n",
        "    - [Underfitting vs Overfitting](#under_over_fitting)\n",
        "- [Summary](#summary)"
      ]
    },
    {
      "cell_type": "markdown",
      "metadata": {
        "id": "n9p9Z9Za-6j-"
      },
      "source": [
        "## Linear regression <a id='LR'></a>\n",
        "\n",
        "### Data example <a id=\"data\"></a>"
      ]
    },
    {
      "cell_type": "code",
      "metadata": {
        "id": "EpNgNeDn-6j_",
        "colab": {
          "base_uri": "https://localhost:8080/",
          "height": 300
        },
        "outputId": "06949b70-91e4-49a6-aa95-51c437a8e08e"
      },
      "source": [
        "import numpy as np\n",
        "import matplotlib.pyplot as plt\n",
        "%matplotlib inline\n",
        "\n",
        "N = 100 # Number of data samples\n",
        "\n",
        "x = np.random.rand(N, 1)\n",
        "y = 10 + 30 * x + np.random.randn(N, 1)\n",
        "\n",
        "plt.plot(x, y, \"b.\")\n",
        "plt.xlabel(\"$x$\", fontsize=14)\n",
        "plt.ylabel(\"$y$\", rotation=0, fontsize=14)\n",
        "#plt.show()"
      ],
      "execution_count": 1,
      "outputs": [
        {
          "output_type": "execute_result",
          "data": {
            "text/plain": [
              "Text(0, 0.5, '$y$')"
            ]
          },
          "metadata": {
            "tags": []
          },
          "execution_count": 1
        },
        {
          "output_type": "display_data",
          "data": {
            "image/png": "[encoded data removed]",
            "text/plain": [
              "<Figure size 432x288 with 1 Axes>"
            ]
          },
          "metadata": {
            "tags": [],
            "needs_background": "light"
          }
        }
      ]
    },
    {
      "cell_type": "code",
      "metadata": {
        "id": "8IW-h_Uvatd1",
        "colab": {
          "base_uri": "https://localhost:8080/"
        },
        "outputId": "5d73d978-1bdc-4547-f075-252b2a4dd49c"
      },
      "source": [
        "x.shape[1]"
      ],
      "execution_count": 2,
      "outputs": [
        {
          "output_type": "execute_result",
          "data": {
            "text/plain": [
              "1"
            ]
          },
          "metadata": {
            "tags": []
          },
          "execution_count": 2
        }
      ]
    },
    {
      "cell_type": "code",
      "metadata": {
        "id": "ESxv4ogHjsL7"
      },
      "source": [
        "import numpy as np"
      ],
      "execution_count": 3,
      "outputs": []
    },
    {
      "cell_type": "code",
      "metadata": {
        "id": "QRpBIjAuju7n",
        "colab": {
          "base_uri": "https://localhost:8080/"
        },
        "outputId": "c52e340e-860c-49ae-ff9e-56303942b78d"
      },
      "source": [
        "np.hstack((np.ones((5,1)),np.random.rand(5,1)))"
      ],
      "execution_count": 4,
      "outputs": [
        {
          "output_type": "execute_result",
          "data": {
            "text/plain": [
              "array([[1.        , 0.77957579],\n",
              "       [1.        , 0.06983493],\n",
              "       [1.        , 0.08944016],\n",
              "       [1.        , 0.02355993],\n",
              "       [1.        , 0.01739108]])"
            ]
          },
          "metadata": {
            "tags": []
          },
          "execution_count": 4
        }
      ]
    },
    {
      "cell_type": "code",
      "metadata": {
        "id": "tCk4xnsMRFdP",
        "colab": {
          "base_uri": "https://localhost:8080/"
        },
        "outputId": "a2a8e413-96c2-46c6-a2ee-31f577ca7ed7"
      },
      "source": [
        "np.ones((5,2))"
      ],
      "execution_count": 5,
      "outputs": [
        {
          "output_type": "execute_result",
          "data": {
            "text/plain": [
              "array([[1., 1.],\n",
              "       [1., 1.],\n",
              "       [1., 1.],\n",
              "       [1., 1.],\n",
              "       [1., 1.]])"
            ]
          },
          "metadata": {
            "tags": []
          },
          "execution_count": 5
        }
      ]
    },
    {
      "cell_type": "code",
      "metadata": {
        "id": "9Vx87x6BhO_A",
        "colab": {
          "base_uri": "https://localhost:8080/"
        },
        "outputId": "fb9b7418-59ef-4a13-8afa-de1e65d5a784"
      },
      "source": [
        "np.c_[np.array([1,2,3]), np.array([4,5,6])]"
      ],
      "execution_count": 6,
      "outputs": [
        {
          "output_type": "execute_result",
          "data": {
            "text/plain": [
              "array([[1, 4],\n",
              "       [2, 5],\n",
              "       [3, 6]])"
            ]
          },
          "metadata": {
            "tags": []
          },
          "execution_count": 6
        }
      ]
    },
    {
      "cell_type": "markdown",
      "metadata": {
        "id": "_Ku_VgSm-6kD"
      },
      "source": [
        "### Linear regression with analytical solution <a id=\"LR_analytical\"></a>\n",
        "\n",
        "In this part, we practice how to solve the linear regression problem using analytical solution that we learned in the lesson. Please follow the following steps:"
      ]
    },
    {
      "cell_type": "markdown",
      "metadata": {
        "id": "dBP1AAjnmUo5"
      },
      "source": [
        "$$\n",
        "J(\\theta) = (X\\theta-Y)^T(X\\theta-Y) \\\\\n",
        "J(\\theta) = \\theta^TX^TX\\theta -Y^TX\\theta-\\theta^TX^T Y + Y^TY\\\\\n",
        "\\text{So}\\\\\n",
        "\\Delta_\\theta J = 2\\theta^TX^TX - 2Y^TX \\\\\n",
        "\\Delta_\\theta J(\\theta) = 2\\theta^{T}X^TX - 2Y^TX = 0 \\\\\n",
        "\\theta^{T}X^TX = Y^TX \\\\\n",
        "X^TX\\theta = X^TY \\\\\n",
        "\\text{Finally : }\n",
        "\\theta = (X^TX)^{-1}X^TY \\\\\n",
        "$$"
      ]
    },
    {
      "cell_type": "markdown",
      "metadata": {
        "id": "mAs3gO6JobaZ"
      },
      "source": [
        "variance of the parameter: https://math.stackexchange.com/questions/687310/variance-of-coefficients-in-a-simple-linear-regression"
      ]
    },
    {
      "cell_type": "markdown",
      "metadata": {
        "id": "4D9CwtCd-6kE"
      },
      "source": [
        "&#x270d; Compute the model parameters based on what you learned in the lesson. Note that, in order to compute inverse of a matrix, you can use the inv() function from Numpy's linear algebra module (i.e., np.linalg)."
      ]
    },
    {
      "cell_type": "code",
      "metadata": {
        "id": "C3DSMVYu-6kF",
        "colab": {
          "base_uri": "https://localhost:8080/"
        },
        "outputId": "5717bd80-386f-48af-81a4-1e9ecfd3a7c8"
      },
      "source": [
        "def get_best_param(x, y):  \n",
        "    N=x.shape[0]\n",
        "    X = np.hstack((np.ones((N, 1)), x))\n",
        "    X_transpose = X.T       \n",
        "    #best_params= np.matmul(np.linalg.inv(np.matmul(X_transpose,X)),np.matmul(X_transpose,y))\n",
        "    #best_params = np.linalg.inv(X_transpose.dot(X)).dot(X_transpose.dot(y)) \n",
        "    best_params = np.linalg.inv(X_transpose.dot(X))@(X_transpose.dot(y)) \n",
        "    return best_params  \n",
        "\n",
        "theta_best = get_best_param(x, y)\n",
        "print('Estimated parameters:\\n', theta_best)"
      ],
      "execution_count": 7,
      "outputs": [
        {
          "output_type": "stream",
          "text": [
            "Estimated parameters:\n",
            " [[ 9.79643515]\n",
            " [30.16353331]]\n"
          ],
          "name": "stdout"
        }
      ]
    },
    {
      "cell_type": "code",
      "metadata": {
        "id": "yN6HCoOWTfeK",
        "colab": {
          "base_uri": "https://localhost:8080/"
        },
        "outputId": "5343943b-253f-428c-dbdc-5989f210ede2"
      },
      "source": [
        "a=np.matrix([[1,2],[3,4]])\n",
        "b=np.matrix([[1,2],[3,4]])\n",
        "a/b"
      ],
      "execution_count": 8,
      "outputs": [
        {
          "output_type": "execute_result",
          "data": {
            "text/plain": [
              "matrix([[1., 1.],\n",
              "        [1., 1.]])"
            ]
          },
          "metadata": {
            "tags": []
          },
          "execution_count": 8
        }
      ]
    },
    {
      "cell_type": "code",
      "metadata": {
        "id": "eavOVWnZmb8W",
        "colab": {
          "base_uri": "https://localhost:8080/"
        },
        "outputId": "e551dfe6-fb11-438e-c323-2d1de94fef6f"
      },
      "source": [
        "np.hstack((np.ones((N, 1)), x))"
      ],
      "execution_count": 9,
      "outputs": [
        {
          "output_type": "execute_result",
          "data": {
            "text/plain": [
              "array([[1.        , 0.49479348],\n",
              "       [1.        , 0.69722767],\n",
              "       [1.        , 0.21315252],\n",
              "       [1.        , 0.11866924],\n",
              "       [1.        , 0.5286917 ],\n",
              "       [1.        , 0.61060696],\n",
              "       [1.        , 0.62620713],\n",
              "       [1.        , 0.76073145],\n",
              "       [1.        , 0.03475104],\n",
              "       [1.        , 0.66002082],\n",
              "       [1.        , 0.29227864],\n",
              "       [1.        , 0.12843937],\n",
              "       [1.        , 0.34830691],\n",
              "       [1.        , 0.47425141],\n",
              "       [1.        , 0.91261348],\n",
              "       [1.        , 0.76277795],\n",
              "       [1.        , 0.81826518],\n",
              "       [1.        , 0.82838489],\n",
              "       [1.        , 0.40403709],\n",
              "       [1.        , 0.34346012],\n",
              "       [1.        , 0.17062166],\n",
              "       [1.        , 0.50247681],\n",
              "       [1.        , 0.38833667],\n",
              "       [1.        , 0.32201573],\n",
              "       [1.        , 0.98656593],\n",
              "       [1.        , 0.73086277],\n",
              "       [1.        , 0.57642015],\n",
              "       [1.        , 0.80547363],\n",
              "       [1.        , 0.00917539],\n",
              "       [1.        , 0.78307099],\n",
              "       [1.        , 0.65992385],\n",
              "       [1.        , 0.18909305],\n",
              "       [1.        , 0.08201045],\n",
              "       [1.        , 0.82787039],\n",
              "       [1.        , 0.75469214],\n",
              "       [1.        , 0.59816413],\n",
              "       [1.        , 0.52252173],\n",
              "       [1.        , 0.55901035],\n",
              "       [1.        , 0.09324076],\n",
              "       [1.        , 0.21706049],\n",
              "       [1.        , 0.7260885 ],\n",
              "       [1.        , 0.92264413],\n",
              "       [1.        , 0.77731122],\n",
              "       [1.        , 0.38294651],\n",
              "       [1.        , 0.51110602],\n",
              "       [1.        , 0.70617988],\n",
              "       [1.        , 0.17168897],\n",
              "       [1.        , 0.4089109 ],\n",
              "       [1.        , 0.65429168],\n",
              "       [1.        , 0.58635318],\n",
              "       [1.        , 0.15402021],\n",
              "       [1.        , 0.31313314],\n",
              "       [1.        , 0.0075083 ],\n",
              "       [1.        , 0.89784752],\n",
              "       [1.        , 0.54802399],\n",
              "       [1.        , 0.16096181],\n",
              "       [1.        , 0.74495485],\n",
              "       [1.        , 0.23676394],\n",
              "       [1.        , 0.34307422],\n",
              "       [1.        , 0.1571557 ],\n",
              "       [1.        , 0.39441203],\n",
              "       [1.        , 0.29093727],\n",
              "       [1.        , 0.47323445],\n",
              "       [1.        , 0.44311531],\n",
              "       [1.        , 0.31934075],\n",
              "       [1.        , 0.132757  ],\n",
              "       [1.        , 0.33856117],\n",
              "       [1.        , 0.1852727 ],\n",
              "       [1.        , 0.89558206],\n",
              "       [1.        , 0.64373661],\n",
              "       [1.        , 0.34350039],\n",
              "       [1.        , 0.81770111],\n",
              "       [1.        , 0.23439533],\n",
              "       [1.        , 0.069656  ],\n",
              "       [1.        , 0.73029293],\n",
              "       [1.        , 0.15402301],\n",
              "       [1.        , 0.33625344],\n",
              "       [1.        , 0.91450244],\n",
              "       [1.        , 0.35736306],\n",
              "       [1.        , 0.98055294],\n",
              "       [1.        , 0.25908421],\n",
              "       [1.        , 0.4180351 ],\n",
              "       [1.        , 0.05456776],\n",
              "       [1.        , 0.2288434 ],\n",
              "       [1.        , 0.22667137],\n",
              "       [1.        , 0.94963353],\n",
              "       [1.        , 0.38198033],\n",
              "       [1.        , 0.1827672 ],\n",
              "       [1.        , 0.4008375 ],\n",
              "       [1.        , 0.13440932],\n",
              "       [1.        , 0.21318608],\n",
              "       [1.        , 0.09401882],\n",
              "       [1.        , 0.07397845],\n",
              "       [1.        , 0.71997741],\n",
              "       [1.        , 0.22395798],\n",
              "       [1.        , 0.93914891],\n",
              "       [1.        , 0.35637786],\n",
              "       [1.        , 0.25434964],\n",
              "       [1.        , 0.25799567],\n",
              "       [1.        , 0.99005372]])"
            ]
          },
          "metadata": {
            "tags": []
          },
          "execution_count": 9
        }
      ]
    },
    {
      "cell_type": "code",
      "metadata": {
        "id": "G2jHguj9dr-R",
        "colab": {
          "base_uri": "https://localhost:8080/"
        },
        "outputId": "da05a8c5-7623-4ba5-9fa5-b027e63596b6"
      },
      "source": [
        "a=np.matrix([[1,2],[3,4]])\n",
        "b=np.matrix([[1,2],[3,4]])\n",
        "print(a.dot(b),'\\n',a@b,'\\n',np.dot(a,b),'\\n',np.matmul(a,b))"
      ],
      "execution_count": 10,
      "outputs": [
        {
          "output_type": "stream",
          "text": [
            "[[ 7 10]\n",
            " [15 22]] \n",
            " [[ 7 10]\n",
            " [15 22]] \n",
            " [[ 7 10]\n",
            " [15 22]] \n",
            " [[ 7 10]\n",
            " [15 22]]\n"
          ],
          "name": "stdout"
        }
      ]
    },
    {
      "cell_type": "code",
      "metadata": {
        "id": "Q9tpJ95wUU3O",
        "colab": {
          "base_uri": "https://localhost:8080/"
        },
        "outputId": "70a568b1-f4b9-42ff-f89f-6cca0844b9a2"
      },
      "source": [
        "np.multiply(a,b)"
      ],
      "execution_count": 11,
      "outputs": [
        {
          "output_type": "execute_result",
          "data": {
            "text/plain": [
              "matrix([[ 1,  4],\n",
              "        [ 9, 16]])"
            ]
          },
          "metadata": {
            "tags": []
          },
          "execution_count": 11
        }
      ]
    },
    {
      "cell_type": "markdown",
      "metadata": {
        "id": "bEBxgq8p-6kJ"
      },
      "source": [
        "&#x270d; Plot the data and the fitted line"
      ]
    },
    {
      "cell_type": "code",
      "metadata": {
        "id": "TPF52_Qh-6kK",
        "colab": {
          "base_uri": "https://localhost:8080/",
          "height": 283
        },
        "outputId": "1b553322-c498-4e1c-b036-433ef4f35e69"
      },
      "source": [
        "X = np.hstack((np.ones((N, 1)), x)) \n",
        "y_pred = X.dot(theta_best)\n",
        "\n",
        "plt.plot(x, y, 'b.', label = 'Actual')\n",
        "plt.plot(x, y_pred, 'r-', label = 'Predicted')\n",
        "plt.xlabel('x', fontsize = 14)\n",
        "plt.ylabel('y', rotation = 0, fontsize = 14)\n",
        "plt.legend(loc='upper left')\n",
        "plt.show()"
      ],
      "execution_count": 12,
      "outputs": [
        {
          "output_type": "display_data",
          "data": {
            "image/png": "[encoded data removed]",
            "text/plain": [
              "<Figure size 432x288 with 1 Axes>"
            ]
          },
          "metadata": {
            "tags": [],
            "needs_background": "light"
          }
        }
      ]
    },
    {
      "cell_type": "markdown",
      "metadata": {
        "id": "wIl950C9-6kM"
      },
      "source": [
        "&#x270d; Use the best parameter theta to make predictions over new data."
      ]
    },
    {
      "cell_type": "code",
      "metadata": {
        "id": "wz7PYWWL-6kN",
        "colab": {
          "base_uri": "https://localhost:8080/"
        },
        "outputId": "14b2575c-a6bc-4d76-d1dd-2b4d1751e61f"
      },
      "source": [
        "x_new = np.array([[0.5],[0.2]])\n",
        "X_new = np.c_[np.ones((2, 1)), x_new] \n",
        "y_pred = np.matmul(X_new,theta_best)\n",
        "y_pred\n"
      ],
      "execution_count": 13,
      "outputs": [
        {
          "output_type": "execute_result",
          "data": {
            "text/plain": [
              "array([[24.8782018 ],\n",
              "       [15.82914181]])"
            ]
          },
          "metadata": {
            "tags": []
          },
          "execution_count": 13
        }
      ]
    },
    {
      "cell_type": "markdown",
      "metadata": {
        "id": "4CywOAA0-6kP"
      },
      "source": [
        "&#x270d; Plot the new data according to the prediction"
      ]
    },
    {
      "cell_type": "code",
      "metadata": {
        "id": "7khYWLSC-6kQ",
        "colab": {
          "base_uri": "https://localhost:8080/",
          "height": 283
        },
        "outputId": "24ca7f7c-45c8-4aa1-f8b9-49324490ef07"
      },
      "source": [
        "plt.plot(x_new, y_pred, \"ro\", label = 'Predicted')\n",
        "plt.plot(x, y, \"b.\", label = 'Actual')\n",
        "plt.xlabel('x', fontsize = 14)\n",
        "plt.ylabel('y', rotation = 0, fontsize = 14)\n",
        "plt.legend(loc='upper left')\n",
        "plt.show()"
      ],
      "execution_count": 14,
      "outputs": [
        {
          "output_type": "display_data",
          "data": {
            "image/png": "[encoded data removed]",
            "text/plain": [
              "<Figure size 432x288 with 1 Axes>"
            ]
          },
          "metadata": {
            "tags": [],
            "needs_background": "light"
          }
        }
      ]
    },
    {
      "cell_type": "markdown",
      "metadata": {
        "id": "CXU6_l5c-6kS"
      },
      "source": [
        "### Linear regression with gradient descent <a id=\"LR_gradient_desc\"></a>\n",
        "\n",
        "Gradient Descent is a very generic optimization algorithm capable of finding optimal solutions to a wide range of problems. The general idea of Gradient Descent is to tweak parameters iteratively in order to minimize a cost function."
      ]
    },
    {
      "cell_type": "markdown",
      "metadata": {
        "id": "Nn7wlEKb-6kT"
      },
      "source": [
        "&#x270d; Implement the gradient descent algorithm in order to estimate the parameter theta and display it."
      ]
    },
    {
      "cell_type": "code",
      "metadata": {
        "id": "eN1nOXyy-6kU",
        "colab": {
          "base_uri": "https://localhost:8080/"
        },
        "outputId": "a3f74e01-4ee4-439d-d1ea-3c86df7596b4"
      },
      "source": [
        "eta = 0.05 # Set learning rate\n",
        "n_iterations = 5000 # Set number of iterations\n",
        "theta = np.random.randn(2,1) # Initialize theta\n",
        "\n",
        "X = np.hstack((np.ones((N, 1)), x)) \n",
        "\n",
        "for iteration in range(n_iterations):\n",
        "    \n",
        "    #gradients = 2/N * X.T@(X@theta - y)\n",
        "    gradients = 2/N * (X@theta - y).T @X\n",
        "    \n",
        "    theta = theta - eta * gradients.T\n",
        "    \n",
        "print('Estimated theta\\n', theta)"
      ],
      "execution_count": 18,
      "outputs": [
        {
          "output_type": "stream",
          "text": [
            "Estimated theta\n",
            " [[ 9.79643515]\n",
            " [30.16353331]]\n"
          ],
          "name": "stdout"
        }
      ]
    },
    {
      "cell_type": "markdown",
      "metadata": {
        "id": "Q17yqM1p-6kX"
      },
      "source": [
        "&#x270d; Plot the cost function versus training iterations"
      ]
    },
    {
      "cell_type": "code",
      "metadata": {
        "id": "XNi0NAJI-6kY",
        "colab": {
          "base_uri": "https://localhost:8080/",
          "height": 334
        },
        "outputId": "f03a8362-3687-4613-8386-445cbcc33f3b"
      },
      "source": [
        "eta = 0.75 # Set learning rate\n",
        "n_iterations = 500 # Set number of iterations\n",
        "theta = np.random.randn(2,1) # Initialize theta\n",
        "\n",
        "J = []\n",
        "for iteration in range(n_iterations):\n",
        "    \n",
        "    y_pred = X.dot(theta)\n",
        "    J.append(np.mean((y - X.dot(theta))**2))\n",
        "    \n",
        "    gradients = 2/N * X.T.dot(X.dot(theta) - y)\n",
        "\n",
        "    theta = theta - eta * gradients\n",
        "    \n",
        "print('Estimated theta\\n', theta)\n",
        "\n",
        "plt.plot(J)\n",
        "plt.xlabel('Iterations', fontsize = 14)\n",
        "plt.ylabel('J', rotation = 0, fontsize = 14)\n",
        "plt.show()"
      ],
      "execution_count": 19,
      "outputs": [
        {
          "output_type": "stream",
          "text": [
            "Estimated theta\n",
            " [[ 9.79643515]\n",
            " [30.16353331]]\n"
          ],
          "name": "stdout"
        },
        {
          "output_type": "display_data",
          "data": {
            "image/png": "[encoded data removed]",
            "text/plain": [
              "<Figure size 432x288 with 1 Axes>"
            ]
          },
          "metadata": {
            "tags": [],
            "needs_background": "light"
          }
        }
      ]
    },
    {
      "cell_type": "markdown",
      "metadata": {
        "id": "rjKUArkHx2Rh"
      },
      "source": [
        "&#x270d; Measure performance of the linear regression model using the following metrics:\n",
        "\n",
        "1. Mean Absolute Error (MAE)\n",
        "$$\n",
        "\\text{MAE} = \\frac{1}{N} \\sum_{n=1}^{N} {\\left|{y_n - \\hat{y}_n}\\right|}\n",
        "$$"
      ]
    },
    {
      "cell_type": "code",
      "metadata": {
        "id": "ulmFR7CZm66L",
        "colab": {
          "base_uri": "https://localhost:8080/"
        },
        "outputId": "b4ecc5c7-3b69-4798-fa73-6117110a6984"
      },
      "source": [
        "print('the MAE={}'.format(np.mean(np.abs(X @ theta -y))))"
      ],
      "execution_count": 20,
      "outputs": [
        {
          "output_type": "stream",
          "text": [
            "the MAE=0.8520621720576742\n"
          ],
          "name": "stdout"
        }
      ]
    },
    {
      "cell_type": "markdown",
      "metadata": {
        "id": "Qpx5EbZ9x2Rk"
      },
      "source": [
        "2. Mean Square Error (MSE)\n",
        "$$\n",
        "\\text{MSE} = \\frac{1}{N} \\sum_{n=1}^{N} {\\left({y_n - \\hat{y}_n}\\right)^2}\n",
        "$$"
      ]
    },
    {
      "cell_type": "code",
      "metadata": {
        "id": "QjIGhB3EnbP9",
        "colab": {
          "base_uri": "https://localhost:8080/"
        },
        "outputId": "7e150e05-5426-42d6-c431-21404ecbd013"
      },
      "source": [
        "print('the MSE={:.4}'.format(np.mean(np.power(X @ theta -y,2))))"
      ],
      "execution_count": 21,
      "outputs": [
        {
          "output_type": "stream",
          "text": [
            "the MSE=1.172\n"
          ],
          "name": "stdout"
        }
      ]
    },
    {
      "cell_type": "markdown",
      "metadata": {
        "id": "HsAzpBQSx2Ro"
      },
      "source": [
        "3. Mean Absolute Percentage Error (MAPE)\n",
        "$$\n",
        "\\text{MAPE} = \\frac{100\\%}{N} \\sum_{n=1}^{N} {\\left|\\frac{y_n - \\hat{y}_n}{y_n}\\right|}\n",
        "$$"
      ]
    },
    {
      "cell_type": "code",
      "metadata": {
        "id": "TneFrUzDx2Rp",
        "colab": {
          "base_uri": "https://localhost:8080/"
        },
        "outputId": "1dcdec65-580d-4429-e376-ca55a6d6ec17"
      },
      "source": [
        "mape_sum = 0\n",
        "for Xn, yn in zip(X, y):\n",
        "    y_pred = Xn.dot(theta)\n",
        "    mape_sum += abs((yn - y_pred)/yn)\n",
        "mape = mape_sum*100/len(y)\n",
        "print('MAPE:', mape)"
      ],
      "execution_count": 22,
      "outputs": [
        {
          "output_type": "stream",
          "text": [
            "MAPE: [4.27189998]\n"
          ],
          "name": "stdout"
        }
      ]
    },
    {
      "cell_type": "markdown",
      "metadata": {
        "id": "rkT7Z5SVx2Rr"
      },
      "source": [
        "4. Mean Percentage Error (MPE)\n",
        "$$\n",
        "\\text{MAPE} = \\frac{100\\%}{N} \\sum_{n=1}^{N} {\\left(\\frac{y_n - \\hat{y}_n}{y_n}\\right)}\n",
        "$$"
      ]
    },
    {
      "cell_type": "code",
      "metadata": {
        "id": "_vPe9i2boLrl",
        "colab": {
          "base_uri": "https://localhost:8080/"
        },
        "outputId": "129744eb-74cd-40db-a796-c23ee6f432c6"
      },
      "source": [
        "print('MPE is {:.2%}'.format(np.mean(np.divide(y-X@theta,y))))"
      ],
      "execution_count": 23,
      "outputs": [
        {
          "output_type": "stream",
          "text": [
            "MPE is -0.37%\n"
          ],
          "name": "stdout"
        }
      ]
    },
    {
      "cell_type": "code",
      "metadata": {
        "id": "m0kuWSoYZUcp"
      },
      "source": [
        "import numpy as np"
      ],
      "execution_count": 24,
      "outputs": []
    },
    {
      "cell_type": "code",
      "metadata": {
        "id": "IzbGjxCVZV6m",
        "colab": {
          "base_uri": "https://localhost:8080/"
        },
        "outputId": "b2b9be4a-76c8-47ec-bde4-9ea6c152ae87"
      },
      "source": [
        "a=np.array([1,3,3])\n",
        "b=np.array([1,2,3])\n",
        "a/b"
      ],
      "execution_count": 25,
      "outputs": [
        {
          "output_type": "execute_result",
          "data": {
            "text/plain": [
              "array([1. , 1.5, 1. ])"
            ]
          },
          "metadata": {
            "tags": []
          },
          "execution_count": 25
        }
      ]
    },
    {
      "cell_type": "markdown",
      "metadata": {
        "id": "rsMW5em-x2Rv"
      },
      "source": [
        "5. R squared(Coefficient of determination)\n",
        "$$\n",
        "R^2 = 1 - \\frac{\\sum_{n=1}^{N} {\\left({y_n - \\hat{y}_n}\\right)^2}}{\\sum_{n=1}^{N} {\\left({y_n - \\bar{y}}\\right)^2}}\n",
        "$$ where $\\bar{y} = \\frac{1}{N} \\sum_{n=1}^{N} {y_n}$."
      ]
    },
    {
      "cell_type": "code",
      "metadata": {
        "id": "O7EvVNtrpOKM",
        "colab": {
          "base_uri": "https://localhost:8080/"
        },
        "outputId": "367ad08b-314d-44a8-c2e6-7a49a6caf1a4"
      },
      "source": [
        "y_mean=np.mean(y)\n",
        "1-sum(np.power(y-X@theta,2))/sum(np.power(y-y_mean,2))"
      ],
      "execution_count": 26,
      "outputs": [
        {
          "output_type": "execute_result",
          "data": {
            "text/plain": [
              "array([0.98351043])"
            ]
          },
          "metadata": {
            "tags": []
          },
          "execution_count": 26
        }
      ]
    },
    {
      "cell_type": "code",
      "metadata": {
        "id": "z49daaJr_Ist"
      },
      "source": [
        ""
      ],
      "execution_count": 26,
      "outputs": []
    },
    {
      "cell_type": "code",
      "metadata": {
        "scrolled": true,
        "id": "eIghkBcex2Rw",
        "colab": {
          "base_uri": "https://localhost:8080/"
        },
        "outputId": "d626ec26-73b8-49d8-bd5d-c23aa04e558f"
      },
      "source": [
        "y_pred = X.dot(theta)\n",
        "ss_res = sum((y - y_pred)**2)\n",
        "ss_tot = sum((y - np.mean(y))**2)\n",
        "r2 = 1 - ss_res/ss_tot\n",
        "print('R2:', r2)"
      ],
      "execution_count": 27,
      "outputs": [
        {
          "output_type": "stream",
          "text": [
            "R2: [0.98351043]\n"
          ],
          "name": "stdout"
        }
      ]
    },
    {
      "cell_type": "markdown",
      "metadata": {
        "id": "qh_BaXAw-6ke"
      },
      "source": [
        "### Linear regression with scikit-learn<a id=\"LR_scikitlearn\"></a>"
      ]
    },
    {
      "cell_type": "markdown",
      "metadata": {
        "id": "vefyiqCa-6ke"
      },
      "source": [
        "In this part, you can use linear regression implemented in linear model of sklearn package.\n",
        "\n",
        "&#x270d; Calculate the regression parameters including the linear regression intercept and the linear regression coefficient, and make predictions over the data."
      ]
    },
    {
      "cell_type": "code",
      "metadata": {
        "id": "mxzRMybr-6kf",
        "colab": {
          "base_uri": "https://localhost:8080/"
        },
        "outputId": "12a59a3c-9d81-4eb4-e6f2-7ab7f46dc299"
      },
      "source": [
        "from sklearn.linear_model import LinearRegression\n",
        "\n",
        "lin_reg = LinearRegression()\n",
        "lin_reg.fit(x, y)\n",
        "\n",
        "print('Intercept: \\n', lin_reg.intercept_)\n",
        "print('Coefficient(s): \\n', lin_reg.coef_)\n",
        "\n",
        "y_pred = lin_reg.predict(x)\n",
        "print('r2 score: \\n', lin_reg.score(x, y))"
      ],
      "execution_count": 28,
      "outputs": [
        {
          "output_type": "stream",
          "text": [
            "Intercept: \n",
            " [9.79643515]\n",
            "Coefficient(s): \n",
            " [[30.16353331]]\n",
            "r2 score: \n",
            " 0.9835104319686204\n"
          ],
          "name": "stdout"
        }
      ]
    },
    {
      "cell_type": "markdown",
      "metadata": {
        "id": "G_-VkfSN-6kh"
      },
      "source": [
        "&#x270d; Measure r2 score"
      ]
    },
    {
      "cell_type": "code",
      "metadata": {
        "id": "IaKwoIp_-6ki",
        "colab": {
          "base_uri": "https://localhost:8080/"
        },
        "outputId": "c53a1736-27f8-4320-f297-364bd4689744"
      },
      "source": [
        "print('r2 score: \\n', lin_reg.score(x, y))"
      ],
      "execution_count": 29,
      "outputs": [
        {
          "output_type": "stream",
          "text": [
            "r2 score: \n",
            " 0.9835104319686204\n"
          ],
          "name": "stdout"
        }
      ]
    },
    {
      "cell_type": "code",
      "metadata": {
        "id": "vWm07c4uqs1H",
        "colab": {
          "base_uri": "https://localhost:8080/"
        },
        "outputId": "6db1fd94-22ed-4309-e2f8-008710fe3e30"
      },
      "source": [
        "from sklearn.metrics import r2_score\n",
        "r2_score(y,X@theta)"
      ],
      "execution_count": 30,
      "outputs": [
        {
          "output_type": "execute_result",
          "data": {
            "text/plain": [
              "0.9835104319686203"
            ]
          },
          "metadata": {
            "tags": []
          },
          "execution_count": 30
        }
      ]
    },
    {
      "cell_type": "markdown",
      "metadata": {
        "id": "262XyUvl-6kl"
      },
      "source": [
        "## Polinomial Regression <a id=\"poly_reg\"></a>\n",
        "\n",
        "You can actually use a linear model to fit a nonlinear data. A simple way to do this is to add powers of each feature as new features, then train a linear model on this extended set of features. This technique is called Polynomial Regression."
      ]
    },
    {
      "cell_type": "markdown",
      "metadata": {
        "id": "jo2QLtCb-6kl"
      },
      "source": [
        "### Data example <a id=\"poly_data\"></a>\n",
        "\n",
        "Let's start with generating a sample data."
      ]
    },
    {
      "cell_type": "code",
      "metadata": {
        "id": "5tQ4cTHGxoQK"
      },
      "source": [
        "import numpy as np\n",
        "import matplotlib.pyplot as plt"
      ],
      "execution_count": 31,
      "outputs": []
    },
    {
      "cell_type": "code",
      "metadata": {
        "id": "UkFCjppu-6km",
        "colab": {
          "base_uri": "https://localhost:8080/",
          "height": 283
        },
        "outputId": "d6c826ba-ca8c-47b7-ac89-bf76fa72d5d9"
      },
      "source": [
        "N = 100\n",
        "X = 6 * np.random.rand(N, 1) - 3\n",
        "y = 0.5 * X**2 + X + 2 + np.random.randn(N, 1)\n",
        "\n",
        "plt.plot(X, y, \"b.\")\n",
        "plt.xlabel(\"$x$\", fontsize=14)\n",
        "plt.ylabel(\"$y$\", rotation=0, fontsize=14)\n",
        "plt.show()"
      ],
      "execution_count": 32,
      "outputs": [
        {
          "output_type": "display_data",
          "data": {
            "image/png": "[encoded data removed]",
            "text/plain": [
              "<Figure size 432x288 with 1 Axes>"
            ]
          },
          "metadata": {
            "tags": [],
            "needs_background": "light"
          }
        }
      ]
    },
    {
      "cell_type": "markdown",
      "metadata": {
        "id": "3bhxZ-at-6kq"
      },
      "source": [
        "### Regression with polynomial features transformation <a id=\"reg_poly\"></a>\n",
        "\n",
        "We can use Scikit-Learn’s PolynomialFeatures class to transform our training data, adding the square (2nd-degree polynomial) of each feature in the training set as new features (see [here]( https://scikit-learn.org/stable/modules/generated/sklearn.preprocessing.PolynomialFeatures.html) for further information)."
      ]
    },
    {
      "cell_type": "markdown",
      "metadata": {
        "id": "9etHUcqa8Ojs"
      },
      "source": [
        "\n",
        "PolynomialFeartures from Sklearn <br>\n",
        "Generate polynomial and interaction features.\n",
        "\n",
        "Generate a new feature matrix consisting of all polynomial combinations of the features with degree less than or equal to the specified degree. For example, if an input sample is two dimensional and of the form [a, b], the degree-2 polynomial features are [1, a, b, a^2, ab, b^2]."
      ]
    },
    {
      "cell_type": "code",
      "metadata": {
        "id": "SMzZwP91-6kr",
        "colab": {
          "base_uri": "https://localhost:8080/"
        },
        "outputId": "3526a894-db3e-4672-bd46-2160c7c01789"
      },
      "source": [
        "from sklearn.preprocessing import PolynomialFeatures\n",
        "\n",
        "poly = PolynomialFeatures(degree= 2, include_bias=False)\n",
        "#X_poly = poly.fit_transform(X)\n",
        "poly.fit(X)\n",
        "X_poly=poly.transform(X)\n",
        "\n",
        "print('X_poly shape:', X_poly.shape)"
      ],
      "execution_count": 33,
      "outputs": [
        {
          "output_type": "stream",
          "text": [
            "X_poly shape: (100, 2)\n"
          ],
          "name": "stdout"
        }
      ]
    },
    {
      "cell_type": "code",
      "metadata": {
        "id": "SjKWa2YFEBvl"
      },
      "source": [
        "from sklearn.linear_model import LinearRegression"
      ],
      "execution_count": 34,
      "outputs": []
    },
    {
      "cell_type": "markdown",
      "metadata": {
        "id": "QMh5U97a-6kv"
      },
      "source": [
        "$X_{poly}$ now contains the original feature of $X$ plus the square of this feature. \n",
        "\n",
        "&#x270d; Fit a linear regression model to this extended training data and display the intercept of linear regression and the coefficient."
      ]
    },
    {
      "cell_type": "code",
      "metadata": {
        "id": "hn2RDxdT-6ky",
        "colab": {
          "base_uri": "https://localhost:8080/"
        },
        "outputId": "bdac52ae-5445-42b5-fce2-46af50e16c1b"
      },
      "source": [
        "lin_reg = LinearRegression()\n",
        "lin_reg.fit(X_poly, y)\n",
        "\n",
        "print(lin_reg.intercept_, lin_reg.coef_)"
      ],
      "execution_count": 35,
      "outputs": [
        {
          "output_type": "stream",
          "text": [
            "[1.86743329] [[0.93314315 0.55787189]]\n"
          ],
          "name": "stdout"
        }
      ]
    },
    {
      "cell_type": "markdown",
      "metadata": {
        "id": "df8aUCKq-6k4"
      },
      "source": [
        "9) Plot the prediction along with data"
      ]
    },
    {
      "cell_type": "code",
      "metadata": {
        "id": "Waq_ZknB-6k5",
        "colab": {
          "base_uri": "https://localhost:8080/",
          "height": 300
        },
        "outputId": "e6519e4f-daaa-4b09-883d-b9ae992d54dc"
      },
      "source": [
        "from sklearn.linear_model import LinearRegression\n",
        "lin_reg = LinearRegression()\n",
        "lin_reg.fit(X_poly, y)\n",
        "print(lin_reg.intercept_, lin_reg.coef_)\n",
        "X_new = np.linspace(-3, 3, 100).reshape(100, 1)   \n",
        "X_new_poly = poly.transform(X_new)\n",
        "y_new = lin_reg.predict(X_new_poly)\n",
        "\n",
        "plt.plot(X, y, \"b.\", label = 'Actual')\n",
        "plt.plot(X_new, y_new, \"r-\", linewidth=2, label=\"Predictions\")\n",
        "plt.xlabel(\"$x$\", fontsize=14)\n",
        "plt.ylabel(\"$y$\", rotation=0, fontsize=14)\n",
        "plt.legend(loc=\"upper left\", fontsize=14)\n",
        "plt.show()"
      ],
      "execution_count": 36,
      "outputs": [
        {
          "output_type": "stream",
          "text": [
            "[1.86743329] [[0.93314315 0.55787189]]\n"
          ],
          "name": "stdout"
        },
        {
          "output_type": "display_data",
          "data": {
            "image/png": "[encoded data removed]",
            "text/plain": [
              "<Figure size 432x288 with 1 Axes>"
            ]
          },
          "metadata": {
            "tags": [],
            "needs_background": "light"
          }
        }
      ]
    },
    {
      "cell_type": "code",
      "metadata": {
        "id": "gsxKkw_ARnVo",
        "colab": {
          "base_uri": "https://localhost:8080/"
        },
        "outputId": "84c89c2c-309c-4ce6-c774-2af3f5cd94f2"
      },
      "source": [
        "np.linspace(-3, 3, 100)"
      ],
      "execution_count": 37,
      "outputs": [
        {
          "output_type": "execute_result",
          "data": {
            "text/plain": [
              "array([-3.        , -2.93939394, -2.87878788, -2.81818182, -2.75757576,\n",
              "       -2.6969697 , -2.63636364, -2.57575758, -2.51515152, -2.45454545,\n",
              "       -2.39393939, -2.33333333, -2.27272727, -2.21212121, -2.15151515,\n",
              "       -2.09090909, -2.03030303, -1.96969697, -1.90909091, -1.84848485,\n",
              "       -1.78787879, -1.72727273, -1.66666667, -1.60606061, -1.54545455,\n",
              "       -1.48484848, -1.42424242, -1.36363636, -1.3030303 , -1.24242424,\n",
              "       -1.18181818, -1.12121212, -1.06060606, -1.        , -0.93939394,\n",
              "       -0.87878788, -0.81818182, -0.75757576, -0.6969697 , -0.63636364,\n",
              "       -0.57575758, -0.51515152, -0.45454545, -0.39393939, -0.33333333,\n",
              "       -0.27272727, -0.21212121, -0.15151515, -0.09090909, -0.03030303,\n",
              "        0.03030303,  0.09090909,  0.15151515,  0.21212121,  0.27272727,\n",
              "        0.33333333,  0.39393939,  0.45454545,  0.51515152,  0.57575758,\n",
              "        0.63636364,  0.6969697 ,  0.75757576,  0.81818182,  0.87878788,\n",
              "        0.93939394,  1.        ,  1.06060606,  1.12121212,  1.18181818,\n",
              "        1.24242424,  1.3030303 ,  1.36363636,  1.42424242,  1.48484848,\n",
              "        1.54545455,  1.60606061,  1.66666667,  1.72727273,  1.78787879,\n",
              "        1.84848485,  1.90909091,  1.96969697,  2.03030303,  2.09090909,\n",
              "        2.15151515,  2.21212121,  2.27272727,  2.33333333,  2.39393939,\n",
              "        2.45454545,  2.51515152,  2.57575758,  2.63636364,  2.6969697 ,\n",
              "        2.75757576,  2.81818182,  2.87878788,  2.93939394,  3.        ])"
            ]
          },
          "metadata": {
            "tags": []
          },
          "execution_count": 37
        }
      ]
    },
    {
      "cell_type": "code",
      "metadata": {
        "id": "0_A-vwI_yUOV",
        "colab": {
          "base_uri": "https://localhost:8080/"
        },
        "outputId": "b23fb76e-d034-475a-9ddc-0f651db809ef"
      },
      "source": [
        "np.linspace(-3, 3, 100)"
      ],
      "execution_count": 38,
      "outputs": [
        {
          "output_type": "execute_result",
          "data": {
            "text/plain": [
              "array([-3.        , -2.93939394, -2.87878788, -2.81818182, -2.75757576,\n",
              "       -2.6969697 , -2.63636364, -2.57575758, -2.51515152, -2.45454545,\n",
              "       -2.39393939, -2.33333333, -2.27272727, -2.21212121, -2.15151515,\n",
              "       -2.09090909, -2.03030303, -1.96969697, -1.90909091, -1.84848485,\n",
              "       -1.78787879, -1.72727273, -1.66666667, -1.60606061, -1.54545455,\n",
              "       -1.48484848, -1.42424242, -1.36363636, -1.3030303 , -1.24242424,\n",
              "       -1.18181818, -1.12121212, -1.06060606, -1.        , -0.93939394,\n",
              "       -0.87878788, -0.81818182, -0.75757576, -0.6969697 , -0.63636364,\n",
              "       -0.57575758, -0.51515152, -0.45454545, -0.39393939, -0.33333333,\n",
              "       -0.27272727, -0.21212121, -0.15151515, -0.09090909, -0.03030303,\n",
              "        0.03030303,  0.09090909,  0.15151515,  0.21212121,  0.27272727,\n",
              "        0.33333333,  0.39393939,  0.45454545,  0.51515152,  0.57575758,\n",
              "        0.63636364,  0.6969697 ,  0.75757576,  0.81818182,  0.87878788,\n",
              "        0.93939394,  1.        ,  1.06060606,  1.12121212,  1.18181818,\n",
              "        1.24242424,  1.3030303 ,  1.36363636,  1.42424242,  1.48484848,\n",
              "        1.54545455,  1.60606061,  1.66666667,  1.72727273,  1.78787879,\n",
              "        1.84848485,  1.90909091,  1.96969697,  2.03030303,  2.09090909,\n",
              "        2.15151515,  2.21212121,  2.27272727,  2.33333333,  2.39393939,\n",
              "        2.45454545,  2.51515152,  2.57575758,  2.63636364,  2.6969697 ,\n",
              "        2.75757576,  2.81818182,  2.87878788,  2.93939394,  3.        ])"
            ]
          },
          "metadata": {
            "tags": []
          },
          "execution_count": 38
        }
      ]
    },
    {
      "cell_type": "markdown",
      "metadata": {
        "id": "8Xaq2Hie-6k8"
      },
      "source": [
        "Note that, if you perform high-degree Polynomial Regression, you will likely fit the training data much better than\n",
        "with a plain Linear Regression. "
      ]
    },
    {
      "cell_type": "markdown",
      "metadata": {
        "id": "oKTkLWzQ-6k9"
      },
      "source": [
        "### Underfitting vs. Overfitting <a id=\"under_over_fitting\"></a>\n",
        "\n",
        "&#x270d; Applies a 200-degree polynomial model to the preceding training data, and compares the result with a pure linear model and a quadratic model (2nddegree polynomial).\n"
      ]
    },
    {
      "cell_type": "code",
      "metadata": {
        "id": "wGLfKwrlMGj1",
        "colab": {
          "base_uri": "https://localhost:8080/",
          "height": 284
        },
        "outputId": "a3c733d7-c38e-484a-ca66-96b16379fcc3"
      },
      "source": [
        "from sklearn.preprocessing import StandardScaler\n",
        "from sklearn.pipeline import Pipeline\n",
        "\n",
        "for degree, style in ((200, \"g-\"), (2, \"b--\"), (1, \"r-+\")):\n",
        "    # Instantiate the following models\n",
        "    polynomial_features =PolynomialFeatures(degree=degree, include_bias=False) # create poly of degree 200 without bias (without intercept)\n",
        "    standard_scaler =StandardScaler() # create a standard scalar object\n",
        "    linear_regression =LinearRegression() # create a simple regression object\n",
        "    \n",
        "    # Create a pipeline\n",
        "    polynomial_regression =Pipeline([('poly_feature',polynomial_features),('std_scaler',standard_scaler),('reg_',linear_regression)])# create a pipeline with the 3 objects\n",
        "    \n",
        "    # Fit the model using the pipeline\n",
        "    polynomial_regression.fit(X,y)\n",
        "    # Make predictions for X_new use the pipeline\n",
        "    y_new = polynomial_regression.predict(X_new)\n",
        "    \n",
        "    plt.plot(X_new, y_new, style, label=str(degree))\n",
        "\n",
        "plt.plot(X, y, \"k.\", linewidth=3)\n",
        "plt.legend(loc=\"best\")\n",
        "plt.xlabel(\"$x$\", fontsize=16)\n",
        "plt.ylabel(\"$y$\", rotation=0, fontsize=16)\n",
        "plt.axis([-3, 3, -2, 15])\n",
        "plt.show()"
      ],
      "execution_count": 39,
      "outputs": [
        {
          "output_type": "display_data",
          "data": {
            "image/png": "[encoded data removed]",
            "text/plain": [
              "<Figure size 432x288 with 1 Axes>"
            ]
          },
          "metadata": {
            "tags": [],
            "needs_background": "light"
          }
        }
      ]
    },
    {
      "cell_type": "markdown",
      "metadata": {
        "id": "_peJZevM-6lB"
      },
      "source": [
        "Notice how the 200-degree polynomial model moves to get as close as possible to training instances. Polynomial Regression model is severely overfitting the training data, while the linear model is underfitting it. The model that will generalize best in this case is the quadratic model."
      ]
    },
    {
      "cell_type": "markdown",
      "metadata": {
        "id": "H6eTrArO-6lF"
      },
      "source": [
        "## Summary <a id='summary'></a>"
      ]
    },
    {
      "cell_type": "markdown",
      "metadata": {
        "id": "hNwx9cHE-6lF"
      },
      "source": [
        "- In this project, we learned how to implement a linear regression model using:\n",
        "    - Analytical solution\n",
        "    - Gradient descent approach\n",
        "    - Scikit-learn\n",
        "- We also learned about polynomial regression model and how to use it along with a linear regression model for a non-linear data."
      ]
    }
  ]
}